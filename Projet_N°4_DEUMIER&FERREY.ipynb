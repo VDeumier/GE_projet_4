{
 "cells": [
  {
   "cell_type": "markdown",
   "metadata": {},
   "source": [
    "# Projet N°4: Cheminée solaire\n",
    "### Valentin Deumier & Augustin Ferrey\n",
    "\n",
    "### Partie 1: Etude thermique simplifiée"
   ]
  },
  {
   "cell_type": "markdown",
   "metadata": {},
   "source": [
    "![schéma_cheminée](schéma_cheminée.png)"
   ]
  },
  {
   "cell_type": "markdown",
   "metadata": {},
   "source": [
    "On modélise le système par un modèle en quatre zones distinctes à température uniforme: \n",
    "* La zone d’air de la serre (asm) à $T_{asm}$\n",
    "* La zone d’air de la cheminée (acm) à $T_{acm}$\n",
    "* La zone de paroi du vitrage de la serre (pvm) à $T_{pvm}$\n",
    "* La zone de paroi du sol de la serre (psm) à $T_{psm}$ \n",
    "\n",
    "Hypothèses supplémentaires : \n",
    "* L'air est transparent\n",
    "* Comme le flux solaire est majoritairement dans le visible, le verre est considéré comme un corps gris avec $\\epsilon = \\alpha = 0.05$\n",
    "* On néglige le facteur de forme entre le vitrage et la cheminée, et comme le verre est transparent, il émet dans tout son volume, et on suppose que la moitié de ce qu'il émet atteint le sol, et que l'autre moitié repart vers le ciel."
   ]
  },
  {
   "cell_type": "markdown",
   "metadata": {},
   "source": [
    "### Question 1.1\n",
    "\n",
    "#### Bilan de flux surfacique sur le vitrage:\n",
    "\n",
    "$$ \\phi_{entrant} = \\alpha \\phi + \\alpha \\sigma T_{psm}^4 $$\n",
    "$$ \\phi_{sortant} = h_{es} (T_{pvm} - T_{ext}) + h_{cv} (T_{pvm} - T_{asm}) + \\alpha \\sigma T_{pvm}^4 $$\n",
    "\n",
    "d'où:\n",
    "\n",
    "$$ (1) \\qquad \\alpha \\phi = h_{es} (T_{pvm} - T_{ext}) + h_{cv} (T_{pvm} - T_{asm}) + \\alpha \\sigma (T_{pvm}^4 - T_{psm}^4) $$\n",
    "\n",
    "\n",
    "#### Bilan de flux surfacique sur le sol:\n",
    "\n",
    "$$ \\phi_{entrant} = \\tau \\phi + {1 \\over 2} \\alpha \\sigma T_{pvm}^4 $$\n",
    "$$ \\phi_{sortant} = h_{cs} (T_{psm} - T_{asm}) + \\sigma T_{psm}^4 $$\n",
    "\n",
    "d'où:\n",
    "\n",
    "$$ (2) \\qquad \\tau \\phi = h_{cs} (T_{psm} - T_{asm}) + \\sigma (T_{psm}^4 - {1 \\over 2} \\alpha T_{pvm}^4) $$\n",
    "\n",
    "\n",
    "#### Bilan enthalpique sur l'air dans la serre:\n",
    "\n",
    "$$ (3) \\qquad q_{m0} (c_p (T_{ass} - T_{ase}) + {1 \\over 2}(v_1^2 - v_{1'}^2)) = h_{cv} A_s (T_{pvm} - T_{asm}) + h_{cs} A_s (T_{psm} - T_{asm}) $$\n",
    "\n",
    "où on a prit $c_p = 1009 J/kg/K$, $v_i = {q_{m0} \\over \\rho S_i}$ et $\\rho = 1.184 kg/m^3$.\n",
    "\n",
    "\n",
    "#### Bilan enthalpique sur l'air dans la cheminée:\n",
    "\n",
    "$$ (4) \\qquad q_{m0} (c_p (T_{acs} - T_{ace}) + g H_c) = KS (T_{ext} - T_{acm}) $$\n",
    "\n",
    "avec $ {1 \\over KS} = {1 \\over h_{ec} A_{ce}} + {\\ln({D_{ce} \\over D_{ci}}) \\over {2 \\pi \\lambda_b H_c}} + {1 \\over h_{cc} A_{ci}}$\n",
    "\n",
    "On fait l'hypothèse que $T_{ase} = T_{ext}$.\n",
    "\n",
    "On a de plus que $T_{asm} = \\frac{1}{2} (T_{ass} - T_{ase})$, $T_{acm} = \\frac{1}{2} (T_{acs} - T_{ace})$ et $ T_{ass} = T_{ace}$.\n",
    "\n",
    "Ainsi, on a autant d'inconnues que d'équations, on peut résoudre."
   ]
  },
  {
   "cell_type": "code",
   "execution_count": 13,
   "metadata": {},
   "outputs": [
    {
     "name": "stdout",
     "output_type": "stream",
     "text": [
      "Tass = 30.165500752578907 °C\n",
      "Tacs = 20.443003230279544 °C\n",
      "Tpvm = 26.868436892257648 °C\n",
      "Tpsm = 31.082211339452556 °C\n",
      "Tasm = 27.507750376289437 °C\n",
      "Tacm = 25.304251991429226 °C\n"
     ]
    }
   ],
   "source": [
    "# Question 1.2\n",
    "\n",
    "from scipy.optimize import root, fsolve\n",
    "import numpy as np\n",
    "\n",
    "# Parameters\n",
    "\n",
    "sigma = 5.67e-8\n",
    "alpha = 0.05\n",
    "tau = 0.85\n",
    "phi = 600\n",
    "rho = 1.184\n",
    "\n",
    "Hc = 1000\n",
    "Hs = 30\n",
    "Dci = 100\n",
    "Dce = 101\n",
    "Ds = 7000\n",
    "\n",
    "As = 0.25*3.14*(Ds**2 - Dce**2)\n",
    "Ace = 3.14*Dce*(Hc - Hs)\n",
    "Aci = 3.14*Dci*(Hc - Hs)\n",
    "Ac = 3.14*(Dci/2)**2\n",
    "\n",
    "hes = 19\n",
    "hec = 40\n",
    "hcv = 11\n",
    "hcs = 10\n",
    "hcc = 12\n",
    "lambdab = 2.3\n",
    "KS = 1/(1/hec*Ace + 1/hcc*Aci + np.log(Dce/Dci)/(2*3.14*lambdab*Hc))\n",
    "cp = 1009\n",
    "\n",
    "Text = 298\n",
    "\n",
    "g = 9.81\n",
    "qm0 = 2*10**5\n",
    "v11 = qm0/(rho*3.14*Ds*Hs)\n",
    "v1 = qm0/(rho*3.14*Dce*Hs)\n",
    "v2 = qm0/(rho*Ac)\n",
    "\n",
    "# Equations\n",
    "\n",
    "def equations(p):\n",
    "\n",
    "    y, z, t, s = p   # y = Tass, z = Tacs, t = Tpvm, s = Tpsm\n",
    "\n",
    "    tasm = (Text + y)/2\n",
    "    tacm = (y + z)/2\n",
    "\n",
    "    eq1 = alpha*phi - hes*(t - Text) - hcv*(t - tasm) - alpha*sigma*(t**4 - s**4)  #Bilan sur le vitrage\n",
    "    eq2 = tau*phi - hcs*(s - tasm) - sigma*(s**4 - 0.5*alpha*t**4)                 #Bilan sur le sol\n",
    "    eq3 = qm0*(cp*(y - Text) + 0.5*(v1**2 - v11**2)) - hcv*As*(t - tasm) - hcs*As*(s - tasm) #Bilan sur l'air asm\n",
    "    eq4 = qm0*(cp*(z - y) + g*Hc) - KS*(Text - tacm) #Bilan sur l'air acm\n",
    "\n",
    "    return [eq1, eq2, eq3, eq4]\n",
    "\n",
    "# Solve\n",
    "\n",
    "Tass, Tacs, Tpvm, Tpsm = fsolve(equations, [300, 300, 300, 300])\n",
    "Tasm = (Text + Tass)/2\n",
    "Tacm = (Tass + Tacs)/2\n",
    "print('Tass =', Tass - 273.15, '°C')\n",
    "print('Tacs =', Tacs - 273.15, '°C')\n",
    "print('Tpvm =', Tpvm - 273.15, '°C')\n",
    "print('Tpsm =', Tpsm - 273.15, '°C')\n",
    "print('Tasm =', Tasm - 273.15, '°C')\n",
    "print('Tacm =', Tacm - 273.15, '°C')"
   ]
  },
  {
   "cell_type": "markdown",
   "metadata": {},
   "source": [
    "### Question 1.3\n",
    "\n",
    "$v_2$ est de l'ordre de $20 \\> m/s$, l'air parcourt donc la cheminée en quelques dizaines de seconde, c'est qui est bien plus rapide que le temps caractéristique des échanges thermiques. On peut donc considérer que la température est constante dans la cheminée."
   ]
  },
  {
   "cell_type": "markdown",
   "metadata": {},
   "source": [
    "### Question 1.4\n",
    "\n",
    "L'expression du rendement de la serre est : $ \\eta_{th} = \\frac{h_{cv} (T_{pvm} - T_{asm})}{\\phi}$"
   ]
  },
  {
   "cell_type": "code",
   "execution_count": 15,
   "metadata": {},
   "outputs": [
    {
     "name": "stdout",
     "output_type": "stream",
     "text": [
      "Rendement = 1.1720747207249456 %\n"
     ]
    }
   ],
   "source": [
    "# Application numérique\n",
    "\n",
    "rendement = np.abs(hcv*(Tpvm - Tasm)/phi)\n",
    "print('Rendement =', rendement*100 , '%')"
   ]
  },
  {
   "cell_type": "markdown",
   "metadata": {},
   "source": [
    "### Partie 2 : Etude aéraulique simplifiée\n",
    "\n",
    "#### Question 2.1\n",
    "\n",
    "PFS entre 1' et 2' : \n",
    "\n",
    "$$ dP = \\rho_{ext} g dz \\quad \\Rightarrow \\quad \\frac{P_{1'}}{\\rho_{ext}} = \\frac{P_{2'}}{\\rho_{ext}} + g H_{c} \\quad \\Rightarrow \\quad \\frac{P_{1'}}{\\rho_{ext}} = r T_{ext} + g H_{c} $$"
   ]
  },
  {
   "cell_type": "markdown",
   "metadata": {},
   "source": [
    "#### Question 2.2\n",
    "\n",
    "Le théorème de Bernoulli nécessite l'hypothèse du fluide parfait, et donc la négligence des transferts thermiques dans le fluide, ce qui n'est pas possible ici car les transferts thermiques sont au centre de l'étude.\n",
    "\n",
    "Bernoulli entre 1' et 2 :\n",
    "\n",
    "$$ \\frac{P_{1'}}{\\rho_{ext}} + \\frac{1}{2} v_{1'}^2 = \\frac{P_{2}}{\\rho_{c}} + g H_c + \\frac{1}{2} v_{2}^2 \\quad \\Rightarrow \\quad r T_{ext} + \\frac{1}{2} v_{1'}^2 = r T_{acm} + \\frac{1}{2} v_{2}^2 \\quad \\Rightarrow \\quad v_{max} = \\sqrt{2r(T_{ext} - T_{acm})}$$\n",
    "\n",
    "car $v_{1'}^2$ est négligeable.\n",
    "\n",
    "On a donc:\n",
    "\n",
    "$$ q_{m,max} = \\rho_{c} v_{max} A_c $$\n",
    "\n",
    "avec $ A_c = \\pi \\frac{D_{ci}^2}{4}$"
   ]
  },
  {
   "cell_type": "markdown",
   "metadata": {},
   "source": [
    "### Question 2.3\n",
    "\n",
    "La puissance aéraulique est définie par $ P_{max} = q_{v,max} p_{tot} $ où $ p_{tot} = p + p_d $ avec $p$ la pression et $p_d = \\frac{1}{2} \\rho v^2$ la pression dynamique au niveau de la turbine.\n",
    "\n",
    "Le rendement maximal de la cheminée solaire est donc $\\eta_{max} = \\frac{P_{max}}{\\phi A_s}$."
   ]
  },
  {
   "cell_type": "code",
   "execution_count": 21,
   "metadata": {},
   "outputs": [
    {
     "name": "stdout",
     "output_type": "stream",
     "text": [
      "Vitesse maximale = 16.147465531171214 m/s\n",
      "Débit massique maximal = 147983.8614966598 kg/s\n",
      "Puissance maximale = 12695.05314557548 MW\n",
      "Efficacité maximale = 55.01840027166687 %\n"
     ]
    }
   ],
   "source": [
    "# Question 2.4\n",
    "\n",
    "rhoc = 100000/(287*Tacm)\n",
    "\n",
    "vmax = np.sqrt(2*287*np.abs(Text - Tacm))\n",
    "qmmax = rhoc*Ac*vmax\n",
    "Pmax = Ac*vmax*(rhoc*287*Tacm + 0.5*rhoc*vmax**2)\n",
    "etamax = Pmax/(phi*As)\n",
    "\n",
    "print('Vitesse maximale =', vmax, 'm/s')\n",
    "print('Débit massique maximal =', qmmax, 'kg/s')\n",
    "print('Puissance maximale =', Pmax/1000000, 'MW')\n",
    "print('Efficacité maximale =', etamax*100, '%')"
   ]
  },
  {
   "cell_type": "markdown",
   "metadata": {},
   "source": [
    "## Partie 3\n",
    "\n",
    "<img src=\"schéma_partie3.jpg\" style=\"transform:rotate(-90deg); position:relative; left: 300px; bottom: 100px;\" width=30%>"
   ]
  }
 ],
 "metadata": {
  "kernelspec": {
   "display_name": "base",
   "language": "python",
   "name": "python3"
  },
  "language_info": {
   "codemirror_mode": {
    "name": "ipython",
    "version": 3
   },
   "file_extension": ".py",
   "mimetype": "text/x-python",
   "name": "python",
   "nbconvert_exporter": "python",
   "pygments_lexer": "ipython3",
   "version": "3.11.4"
  }
 },
 "nbformat": 4,
 "nbformat_minor": 2
}
