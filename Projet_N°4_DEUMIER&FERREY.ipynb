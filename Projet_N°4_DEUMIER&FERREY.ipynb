{
 "cells": [
  {
   "cell_type": "markdown",
   "metadata": {},
   "source": [
    "# Projet N°4: Cheminée solaire\n",
    "### Valentin Deumier & Augustin Ferrey\n",
    "\n",
    "### Partie 1: Etude thermique simplifiée"
   ]
  },
  {
   "cell_type": "markdown",
   "metadata": {},
   "source": [
    "![schéma_cheminée](schéma_cheminée.png)"
   ]
  },
  {
   "cell_type": "markdown",
   "metadata": {},
   "source": [
    "On modélise le système par un modèle en quatre zones distinctes à température uniforme: \n",
    "* La zone d’air de la serre (asm) à $T_{asm}$\n",
    "* La zone d’air de la cheminée (acm) à $T_{acm}$\n",
    "* La zone de paroi du vitrage de la serre (pvm) à $T_{pvm}$\n",
    "* La zone de paroi du sol de la serre (psm) à $T_{psm}$ \n",
    "\n",
    "Hypothèses supplémentaires : \n",
    "* L'air est transparent\n",
    "* Comme le flux solaire est majoritairement dans le visible, le verre est considéré comme un corps gris avec $\\epsilon = \\alpha = 0.05$\n",
    "* On néglige le facteur de forme entre le vitrage et la cheminée, et comme le verre est transparent, il émet dans tout son volume, et on suppose que la moitié de ce qu'il émet atteint le sol, et que l'autre moitié repart vers le ciel."
   ]
  },
  {
   "cell_type": "markdown",
   "metadata": {},
   "source": [
    "### Question 1.1\n",
    "\n",
    "#### Bilan de flux surfacique sur le vitrage:\n",
    "\n",
    "$$ \\phi_{entrant} = \\alpha \\phi + \\alpha \\sigma T_{psm}^4 $$\n",
    "$$ \\phi_{sortant} = h_{es} (T_{pvm} - T_{ext}) + h_{cv} (T_{pvm} - T_{asm}) + \\alpha \\sigma T_{pvm}^4 $$\n",
    "\n",
    "d'où:\n",
    "\n",
    "$$ (1) \\qquad \\alpha \\phi = h_{es} (T_{pvm} - T_{ext}) + h_{cv} (T_{pvm} - T_{asm}) + \\alpha \\sigma (T_{pvm}^4 - T_{psm}^4) $$\n",
    "\n",
    "\n",
    "#### Bilan de flux surfacique sur le sol:\n",
    "\n",
    "$$ \\phi_{entrant} = \\tau \\phi + {1 \\over 2} \\alpha \\sigma T_{pvm}^4 $$\n",
    "$$ \\phi_{sortant} = h_{cs} (T_{psm} - T_{asm}) + \\sigma T_{psm}^4 $$\n",
    "\n",
    "d'où:\n",
    "\n",
    "$$ (2) \\qquad \\tau \\phi = h_{cs} (T_{psm} - T_{asm}) + \\sigma (T_{psm}^4 - {1 \\over 2} \\alpha T_{pvm}^4) $$\n",
    "\n",
    "\n",
    "#### Bilan enthalpique sur l'air dans la serre:\n",
    "\n",
    "$$ (3) \\qquad q_{m0} (c_p (T_{ass} - T_{ase}) + {1 \\over 2}(v_1^2 - v_{1'}^2)) = h_{cv} A_s (T_{pvm} - T_{asm}) + h_{cs} A_s (T_{psm} - T_{asm}) $$\n",
    "\n",
    "où on a prit $c_p = 1009 J/kg/K$, $v_i = {q_{m0} \\over \\rho S_i}$ et $\\rho = 1.184 kg/m^3$.\n",
    "\n",
    "\n",
    "#### Bilan enthalpique sur l'air dans la cheminée:\n",
    "\n",
    "$$ (4) \\qquad q_{m0} (c_p (T_{acs} - T_{ace}) + g H_c) = KS (T_{ext} - T_{acm}) $$\n",
    "\n",
    "avec $ {1 \\over KS} = {1 \\over h_{ec} A_{ce}} + {\\ln({D_{ce} \\over D_{ci}}) \\over {2 \\pi \\lambda_b H_c}} + {1 \\over h_{cc} A_{ci}}$\n",
    "\n",
    "#### Bilan enthalpique sur tout l'air:\n",
    "\n",
    "$$ (5) \\qquad q_{m0} (c_p (T_{acs} - T_{ase}) + {1 \\over 2}(v_2^2 - v_{1'}^2) + g H_c) = h_{cv} A_s (T_{pvm} - T_{asm}) + h_{cs} A_s (T_{psm} - T_{asm}) + KS (T_{ext} - T_{acm}) $$\n",
    "\n",
    "Comme on a $ T_{ass} = T_{ace} $, $T_{asm} = 0.5 (T_{ase} + T_{ass})$ et $T_{acm} = 0.5 (T_{ace} + T_{acs})$, on a bien 5 équations pour trouver 5 inconnues."
   ]
  },
  {
   "cell_type": "code",
   "execution_count": 8,
   "metadata": {},
   "outputs": [
    {
     "name": "stdout",
     "output_type": "stream",
     "text": [
      " message: The iteration is not making good progress, as measured by the \n",
      "            improvement from the last ten iterations.\n",
      " success: False\n",
      "  status: 5\n",
      "     fun: [-3.264e+07 -6.261e+06 -5.022e+06 -4.939e+06  4.821e+06]\n",
      "       x: [-4.382e+06  1.455e+06  1.455e+06 -8.776e+03 -9.323e+02]\n",
      "    nfev: 100\n",
      "    fjac: [[-1.925e-08 -1.750e-08 ...  0.000e+00 -7.071e-01]\n",
      "           [-3.335e-08 -3.032e-08 ... -8.165e-01 -4.082e-01]\n",
      "           ...\n",
      "           [-6.762e-01  7.352e-01 ...  2.712e-02 -2.712e-02]\n",
      "           [-5.859e-02 -1.172e-01 ...  5.724e-01 -5.724e-01]]\n",
      "       r: [-2.857e+08 -7.138e+08 ...  1.045e+02 -1.720e+01]\n",
      "     qtf: [-2.168e+05  1.124e+04 -2.920e+07  1.707e+07 -5.814e+06]\n"
     ]
    },
    {
     "data": {
      "text/plain": [
       "\"\\nx, y, z, t, s = fsolve(equations, [300, 300, 300, 300, 300])\\nprint('Tase =', x)\\nprint('Tass =', y)\\nprint('Tacs =', z)\\nprint('Tpvm =', t)\\nprint('Tpsm =', s)\\nprint('Tasm =', (x + y)/2)\\nprint('Tacm =', (y + z)/2)\\n\""
      ]
     },
     "execution_count": 8,
     "metadata": {},
     "output_type": "execute_result"
    }
   ],
   "source": [
    "from scipy.optimize import root\n",
    "import numpy as np\n",
    "\n",
    "# Parameters\n",
    "\n",
    "sigma = 5.67e-8\n",
    "alpha = 0.05\n",
    "tau = 0.85\n",
    "phi = 600\n",
    "rho = 1.184\n",
    "\n",
    "Hc = 1000\n",
    "Hs = 30\n",
    "Dci = 100\n",
    "Dce = 101\n",
    "Ds = 7000\n",
    "\n",
    "As = 0.25*3.14*(Ds**2 - Dce**2)\n",
    "Ace = 3.14*Dce*(Hc - Hs)\n",
    "Aci = 3.14*Dci*(Hc - Hs)\n",
    "Ac = 3.14*(Dci/2)**2\n",
    "\n",
    "hes = 19\n",
    "hec = 40\n",
    "hcv = 11\n",
    "hcs = 10\n",
    "hcc = 12\n",
    "lambdab = 2.3\n",
    "KS = 1/(1/hec*Ace + 1/hcc*Aci + np.log(Dce/Dci)/(2*3.14*lambdab*Hc))\n",
    "cp = 1009\n",
    "\n",
    "Text = 298\n",
    "\n",
    "g = 9.81\n",
    "qm0 = 2*10**5\n",
    "v11 = qm0/(rho*3.14*Ds*Hs)\n",
    "v1 = qm0/(rho*3.14*Dce*Hs)\n",
    "v2 = qm0/(rho*Ac)\n",
    "\n",
    "# Equations\n",
    "\n",
    "def equations(p):\n",
    "\n",
    "    x, y, z, t, s = p   # x = Tase, y = Tass, z = Tacs, t = Tpvm, s = Tpsm\n",
    "\n",
    "    tasm = (x + y)/2\n",
    "    tacm = (y + z)/2\n",
    "\n",
    "    eq1 = alpha*phi - hes*(t - Text) - hcv*(t - tasm) - alpha*sigma*(t**4 - s**4)  #Bilan sur le vitrage\n",
    "    eq2 = tau*phi - hcs*(s - tasm) - sigma*(s**4 - 0.5*alpha*t**4)                 #Bilan sur le sol\n",
    "    eq3 = qm0*(cp*(y - x) + 0.5*(v1**2 - v11**2)) - hcv*As*(t - tasm) - hcs*As*(s - tasm) #Bilan sur l'air asm\n",
    "    eq4 = qm0*(cp*(z - y) + g*Hc) - KS*(Text - tacm) #Bilan sur l'air acm\n",
    "    eq5 = qm0*(cp*(z - x) + 0.5*(v2**2 - v11**2) + g*Hc) - hcv*As*(t - tasm) - hcs*As*(s - tasm) - KS*(Text - tacm) #Bilan sur l'air total\n",
    "\n",
    "    return [eq1, eq2, eq3, eq4, eq5]\n",
    "\n",
    "# Solve\n",
    "print(root(equations, [300, 300, 300, 300, 300]))\n",
    "\n",
    "\"\"\"\n",
    "x, y, z, t, s = fsolve(equations, [300, 300, 300, 300, 300])\n",
    "print('Tase =', x)\n",
    "print('Tass =', y)\n",
    "print('Tacs =', z)\n",
    "print('Tpvm =', t)\n",
    "print('Tpsm =', s)\n",
    "print('Tasm =', (x + y)/2)\n",
    "print('Tacm =', (y + z)/2)\n",
    "\"\"\""
   ]
  }
 ],
 "metadata": {
  "kernelspec": {
   "display_name": "base",
   "language": "python",
   "name": "python3"
  },
  "language_info": {
   "codemirror_mode": {
    "name": "ipython",
    "version": 3
   },
   "file_extension": ".py",
   "mimetype": "text/x-python",
   "name": "python",
   "nbconvert_exporter": "python",
   "pygments_lexer": "ipython3",
   "version": "3.11.4"
  }
 },
 "nbformat": 4,
 "nbformat_minor": 2
}
