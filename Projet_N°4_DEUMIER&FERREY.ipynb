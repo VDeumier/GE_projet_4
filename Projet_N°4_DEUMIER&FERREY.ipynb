{
 "cells": [
  {
   "cell_type": "markdown",
   "metadata": {},
   "source": [
    "# Projet N°4: Cheminée solaire\n",
    "### Valentin Deumier & Augustin Ferrey\n",
    "\n",
    "### Partie 1: Etude thermique simplifiée"
   ]
  },
  {
   "cell_type": "markdown",
   "metadata": {},
   "source": [
    "![schéma_cheminée](schéma_cheminée.png)"
   ]
  },
  {
   "cell_type": "markdown",
   "metadata": {},
   "source": [
    "On modélise le système par un modèle en quatre zones distinctes à température uniforme: \n",
    "* La zone d’air de la serre (asm) à $T_{asm}$\n",
    "* La zone d’air de la cheminée (acm) à $T_{acm}$\n",
    "* La zone de paroi du vitrage de la serre (pvm) à $T_{pvm}$\n",
    "* La zone de paroi du sol de la serre (psm) à $T_{psm}$ \n",
    "\n",
    "Hypothèses supplémentaires : \n",
    "* L'air est transparent\n",
    "* Comme le flux solaire est majoritairement dans le visible, le verre est considéré comme un corps gris avec $\\epsilon = \\alpha = 0.05$\n",
    "* On néglige le facteur de forme entre le vitrage et la cheminée, et comme le verre est transparent, il émet dans tout son volume, et on suppose que la moitié de ce qu'il émet atteint le sol, et que l'autre moitié repart vers le ciel."
   ]
  },
  {
   "cell_type": "markdown",
   "metadata": {},
   "source": [
    "### Question 1.1\n",
    "\n",
    "#### Bilan de flux surfacique sur le vitrage:\n",
    "\n",
    "$$ \\phi_{entrant} = \\alpha \\phi + \\alpha \\sigma T_{psm}^4 $$\n",
    "$$ \\phi_{sortant} = h_{es} (T_{pvm} - T_{ext}) + h_{cv} (T_{pvm} - T_{asm}) + \\alpha \\sigma T_{pvm}^4 $$\n",
    "\n",
    "d'où:\n",
    "\n",
    "$$ (1) \\qquad \\alpha \\phi = h_{es} (T_{pvm} - T_{ext}) + h_{cv} (T_{pvm} - T_{asm}) + \\alpha \\sigma (T_{pvm}^4 - T_{psm}^4) $$\n",
    "\n",
    "\n",
    "#### Bilan de flux surfacique sur le sol:\n",
    "\n",
    "$$ \\phi_{entrant} = \\tau \\phi + {1 \\over 2} \\alpha \\sigma T_{pvm}^4 $$\n",
    "$$ \\phi_{sortant} = h_{cs} (T_{psm} - T_{asm}) + \\sigma T_{psm}^4 $$\n",
    "\n",
    "d'où:\n",
    "\n",
    "$$ (2) \\qquad \\tau \\phi = h_{cs} (T_{psm} - T_{asm}) + \\sigma (T_{psm}^4 - {1 \\over 2} \\alpha T_{pvm}^4) $$\n",
    "\n",
    "\n",
    "#### Bilan enthalpique sur l'air dans la serre:\n",
    "\n",
    "$$ q_{m0} (c_p (T_{ass} - T_{ase}) + {1 \\over 2}(v_1^2 - v_{1'}^2)) = h_{cv} A_s (T_{pvm} - T_{asm}) + h_{cs} A_s (T_{psm} - T_{asm}) $$\n",
    "\n",
    "où on a prit $c_p = 1009 J/kg/K$ et $v_i = {q_{m0} \\over \\rho S_i}$.\n",
    "\n",
    "\n",
    "#### Bilan enthalpique sur l'air dans la cheminée:\n",
    "\n",
    "$$ q_{m0} (c_p (T_{acs} - T_{ace}) + g H_c) = KS (T_{ext} - T_{acm}) $$\n",
    "\n",
    "avec $ {1 \\over KS} = {1 \\over h_{ec} A_{ce}} + {\\ln({D_{ce} \\over D_{ci}}) \\over {2 \\pi \\lambda_b H_c}} + {1 \\over h_{cc} A_{ci}}$"
   ]
  }
 ],
 "metadata": {
  "kernelspec": {
   "display_name": "base",
   "language": "python",
   "name": "python3"
  },
  "language_info": {
   "codemirror_mode": {
    "name": "ipython",
    "version": 3
   },
   "file_extension": ".py",
   "mimetype": "text/x-python",
   "name": "python",
   "nbconvert_exporter": "python",
   "pygments_lexer": "ipython3",
   "version": "3.11.4"
  }
 },
 "nbformat": 4,
 "nbformat_minor": 2
}
